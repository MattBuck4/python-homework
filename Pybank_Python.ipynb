{
 "cells": [
  {
   "cell_type": "code",
   "execution_count": 11,
   "id": "12ddc5e3-70ac-4968-978c-a4df2f77da53",
   "metadata": {},
   "outputs": [],
   "source": [
    "# Generate List \n",
    "from pathlib import Path\n",
    "import csv\n",
    "file_path = Path('Pybank_CSV.csv')\n"
   ]
  },
  {
   "cell_type": "code",
   "execution_count": 17,
   "id": "89a130d6-e713-463f-b1c4-ecb65b77c26a",
   "metadata": {},
   "outputs": [
    {
     "ename": "IndentationError",
     "evalue": "unindent does not match any outer indentation level (<tokenize>, line 16)",
     "output_type": "error",
     "traceback": [
      "\u001b[0;36m  File \u001b[0;32m\"<tokenize>\"\u001b[0;36m, line \u001b[0;32m16\u001b[0m\n\u001b[0;31m    for row in csvreader\u001b[0m\n\u001b[0m    ^\u001b[0m\n\u001b[0;31mIndentationError\u001b[0m\u001b[0;31m:\u001b[0m unindent does not match any outer indentation level\n"
     ]
    }
   ],
   "source": [
    "# File Path \n",
    "csvpath = f\"Pybank_CSV.csv\"\n",
    "\n",
    "# Create Empty Lists\n",
    "total_months = []\n",
    "net_profit = []\n",
    "mean_monthly_profit = []\n",
    "\n",
    "# Run CSV File \n",
    "with open(csvpath, \"r\") as csvfile:\n",
    "        csvreader = csv.reader(csvfile. delimiter='.')\n",
    "        \n",
    "        header = next(csvreader)\n",
    "\n",
    "# create sequence to sum months and profits\n",
    "    for row in csvreader\n",
    "        total_months.append(row[0])\n",
    "        total_profit.append(int(row[1]))\n",
    "    \n",
    "    for profit in range(len(total_profit)-1):\n",
    "    \n",
    "        average_monthly_profit.append(total_profit[profit+1]-total_profit[1])\n",
    "    \n",
    "greatest_increase = max(average_monthly_profit)\n",
    "greatest_decrease = min(average_monthly_profit)\n",
    "\n",
    "max_increase_month = average_monthly_profit.index(max(average_monthly_profit)) + 1\n",
    "min_increase_month = average_monthly_profit.index(min(average_monthly_profit)) + 1\n",
    "\n",
    "\n",
    "print(\"financial analysis\")\n",
    "print(\"--------------------------------------\")\n",
    "print(f\"total_months: {len(total_months)}\")\n",
    "print(f\"Total: ${sum(total_profit)}\")\n",
    "print(f\"Average Change: ${round(sum(average_monthly_profit)/len(average_monthly_profit),2)}\")\n",
    "print(f\"Greatest Increase In Profits: {total_months[max_increase_month]} (${(str(greatest_increase))})\")\n",
    "print(f\"Greatest Decrease In Profits: {total_months[max_decrease_month]} (${(str(greatest_Decrease))})\")\n",
    "\n",
    "#output file\n",
    "\n",
    "output_file = r\"'Pybank_CSV.csv'\n",
    "\n",
    "with open(output_file, \"w\") as file:\n",
    "    \n",
    "    file.write(\"Financial Analysis/n\")\n",
    "    file.write(\"--------------------------------------\")\n",
    "    file.write(\"/n\")\n",
    "    file.write(f\"total months: {len(total_months)}\")\n",
    "    file.write(\"/n\")\n",
    "    file.write(f\"Total: ${sum(total_profit)}\")\n",
    "    file.write(\"/n\")\n",
    "    file.write(f\"Average Change: ${round(sum(average_monthly_profit)/len(average_monthly_profit),2)}\")\n",
    "    file.write(\"/n\")\n",
    "    file.write(f\"Greatest Increase In Profits: {total_months[max_increase_month]} (${(str(greatest_increase))})\")\n",
    "    file.write(\"/n\")\n",
    "    file.write(f\"Greatest Decrease In Profits: {total_months[max_decrease_month]} (${(str(greatest_Decrease))})\")\n",
    "      \n",
    "      \n",
    "\n"
   ]
  },
  {
   "cell_type": "code",
   "execution_count": 13,
   "id": "be9d67fb-87c0-4d18-8448-6eaa0306f028",
   "metadata": {},
   "outputs": [],
   "source": [
    "# Calulate Total Number Of Months in List\n",
    "## len(list)"
   ]
  },
  {
   "cell_type": "code",
   "execution_count": 14,
   "id": "4c0ce214-2503-4b19-9c8c-fc2ab24ed3cc",
   "metadata": {},
   "outputs": [],
   "source": [
    "# Calculate Net Profit/Loss\n",
    "##"
   ]
  },
  {
   "cell_type": "code",
   "execution_count": 10,
   "id": "7614afaa-7de6-46ed-98ff-a16b098c7840",
   "metadata": {},
   "outputs": [],
   "source": [
    "# Greatest Increase In Profits"
   ]
  },
  {
   "cell_type": "code",
   "execution_count": 11,
   "id": "7fd833d7-9994-4642-a826-e6378359c86f",
   "metadata": {},
   "outputs": [],
   "source": [
    "# Greatest Decrease in Profits"
   ]
  },
  {
   "cell_type": "code",
   "execution_count": null,
   "id": "730909f3-f219-435d-8dbb-f18ec260d7fe",
   "metadata": {},
   "outputs": [],
   "source": []
  },
  {
   "cell_type": "code",
   "execution_count": null,
   "id": "22727eff-c09f-48c8-9d24-f7727073b050",
   "metadata": {},
   "outputs": [],
   "source": []
  }
 ],
 "metadata": {
  "kernelspec": {
   "display_name": "Python 3",
   "language": "python",
   "name": "python3"
  },
  "language_info": {
   "codemirror_mode": {
    "name": "ipython",
    "version": 3
   },
   "file_extension": ".py",
   "mimetype": "text/x-python",
   "name": "python",
   "nbconvert_exporter": "python",
   "pygments_lexer": "ipython3",
   "version": "3.7.10"
  }
 },
 "nbformat": 4,
 "nbformat_minor": 5
}
